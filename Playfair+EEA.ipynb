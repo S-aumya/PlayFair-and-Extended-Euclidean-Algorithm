{
 "cells": [
  {
   "cell_type": "code",
   "execution_count": 6,
   "id": "cb22408a",
   "metadata": {},
   "outputs": [
    {
     "name": "stdout",
     "output_type": "stream",
     "text": [
      "key matrix:\n",
      "[['M', 'O', 'N', 'A', 'R', 'C'], ['H', 'Y', '1', '2', '3', '4'], ['B', 'D', 'E', 'F', 'G', 'I'], ['J', 'K', 'L', 'P', 'Q', 'S'], ['T', 'U', 'V', 'W', 'X', 'Z'], ['0', '5', '6', '7', '8', '9']]\n",
      "   \n",
      "Pairing: ['HE', 'LL', 'O1', '23', '4X']\n",
      "   \n",
      "Cipher Text: 1BPPNY343Z\n"
     ]
    }
   ],
   "source": [
    "import matplotlib.pyplot as plt\n",
    "import numpy as np\n",
    "# creating key matrix\n",
    "def generate_matrix(key):\n",
    "    key=\"\".join([x for i,x in enumerate(key) if x not in key[:i]])\n",
    "    alphabet=\"ABCDEFGHIJKLMNOPQRSTUVWXYZ0123456789\"\n",
    "    matrix=[]\n",
    "    for x in key:\n",
    "        if x not in matrix and x in alphabet:\n",
    "            matrix.append(x)\n",
    "    for x in alphabet:\n",
    "        if x not in matrix:\n",
    "            matrix.append(x)\n",
    "    return [matrix[i:i+6] for i in range(0,len(matrix),6)]\n",
    "\n",
    "def search(key_matrix,word):\n",
    "    for i in range(6):\n",
    "        for j in range(6):\n",
    "            if(key_matrix[i][j]==word):\n",
    "                return i,j\n",
    "\n",
    "def playfair(plaintext,key):\n",
    "    \n",
    "    plaintext=plaintext.upper().replace(\" \",\"\")\n",
    "    if len(plaintext)%2==1:\n",
    "        plaintext+='X'\n",
    "        \n",
    "    key_matrix=generate_matrix(key)\n",
    "    print(\"key matrix:\")\n",
    "    print(key_matrix)\n",
    "    print(\"   \")\n",
    "    pair=[plaintext[i:i+2] for i in range(0, len(plaintext), 2)] \n",
    "    print(\"Pairing:\",pair)\n",
    "    print(\"   \")\n",
    "    cipher_text=[]\n",
    "    for a,b in pair:\n",
    "        row_a,col_a=search(key_matrix,a)\n",
    "        row_b,col_b=search(key_matrix,b)\n",
    "    \n",
    "        if row_a == row_b:\n",
    "            cipher_text.append(key_matrix[row_a][(col_a + 1) % 6])\n",
    "            cipher_text.append(key_matrix[row_b][(col_b + 1) % 6])\n",
    "        elif col_a == col_b:\n",
    "            cipher_text.append(key_matrix[(row_a + 1) % 6][col_a])\n",
    "            cipher_text.append(key_matrix[(row_b + 1) % 6][col_b])\n",
    "        else:\n",
    "            cipher_text.append(key_matrix[row_a][col_b])\n",
    "            cipher_text.append(key_matrix[row_b][col_a])\n",
    "\n",
    "    return \"\".join(cipher_text)\n",
    "\n",
    "        \n",
    "        \n",
    "plaintext=\"hello 1234\"\n",
    "key=\"MONARCCHY1234\"\n",
    "cipher_text=playfair(plaintext,key)\n",
    "# generate_matrix(key)\n",
    "print(f\"Cipher Text: {cipher_text}\")\n",
    "# CQQCDWCQ21UH"
   ]
  },
  {
   "cell_type": "code",
   "execution_count": 4,
   "id": "6de3b319",
   "metadata": {},
   "outputs": [
    {
     "data": {
      "text/plain": [
       "[['M', 'O', 'N', 'A', 'R', 'C'],\n",
       " ['H', 'Y', '1', '2', '3', '4'],\n",
       " ['B', 'D', 'E', 'F', 'G', 'I'],\n",
       " ['J', 'K', 'L', 'P', 'Q', 'S'],\n",
       " ['T', 'U', 'V', 'W', 'X', 'Z'],\n",
       " ['0', '5', '6', '7', '8', '9']]"
      ]
     },
     "execution_count": 4,
     "metadata": {},
     "output_type": "execute_result"
    }
   ],
   "source": [
    "matrix=generate_matrix(key)\n",
    "matrix"
   ]
  },
  {
   "cell_type": "code",
   "execution_count": 7,
   "id": "3756f271",
   "metadata": {},
   "outputs": [
    {
     "name": "stdout",
     "output_type": "stream",
     "text": [
      "Key matrix:\n",
      "['M', 'O', 'N', 'A', 'R', 'C']\n",
      "['H', 'Y', '1', '2', '3', '4']\n",
      "['B', 'D', 'E', 'F', 'G', 'I']\n",
      "['J', 'K', 'L', 'P', 'Q', 'S']\n",
      "['T', 'U', 'V', 'W', 'X', 'Z']\n",
      "['0', '5', '6', '7', '8', '9']\n",
      "   \n",
      "Pairing: ['1B', 'PP', 'NY', '34', '3Z']\n",
      "   \n",
      "Decrypted Text: HELLO1234X\n"
     ]
    }
   ],
   "source": [
    "def playfair_decrypt(ciphertext, key):\n",
    "    ciphertext = ciphertext.upper().replace(\" \", \"\")\n",
    "    \n",
    "    key_matrix = generate_matrix(key)\n",
    "    print(\"Key matrix:\")\n",
    "    for row in key_matrix:\n",
    "        print(row)\n",
    "    print(\"   \")\n",
    "    \n",
    "    pair = [ciphertext[i:i+2] for i in range(0, len(ciphertext), 2)]\n",
    "    print(\"Pairing:\", pair)\n",
    "    print(\"   \")\n",
    "    \n",
    "    decrypted_text = []\n",
    "    for a, b in pair:\n",
    "        row_a, col_a = search(key_matrix, a)\n",
    "        row_b, col_b = search(key_matrix, b)\n",
    "    \n",
    "        if row_a == row_b:\n",
    "            decrypted_text.append(key_matrix[row_a][(col_a - 1) % 6])\n",
    "            decrypted_text.append(key_matrix[row_b][(col_b - 1) % 6])\n",
    "        elif col_a == col_b:\n",
    "            decrypted_text.append(key_matrix[(row_a - 1) % 6][col_a])\n",
    "            decrypted_text.append(key_matrix[(row_b - 1) % 6][col_b])\n",
    "        else:\n",
    "            decrypted_text.append(key_matrix[row_a][col_b])\n",
    "            decrypted_text.append(key_matrix[row_b][col_a])\n",
    "\n",
    "    return \"\".join(decrypted_text)\n",
    "\n",
    "# Decrypting the same ciphertext\n",
    "ciphertext = \"1BPPNY343Z\"\n",
    "key = \"MONARCCHY1234\"\n",
    "decrypted_text = playfair_decrypt(ciphertext, key)\n",
    "print(f\"Decrypted Text: {decrypted_text}\")\n"
   ]
  },
  {
   "cell_type": "code",
   "execution_count": null,
   "id": "b53dd26f",
   "metadata": {},
   "outputs": [],
   "source": []
  },
  {
   "cell_type": "code",
   "execution_count": null,
   "id": "5a96cca0",
   "metadata": {},
   "outputs": [],
   "source": [
    "def extended_euclidean_algorithm(a,b):\n",
    "    x0,x1,y0,y1=1,0,0,1\n",
    "    while b!=0:\n",
    "        q, a, b =a//b, b, a%b\n",
    "        x0, x1 = x1, x0 - q * x1\n",
    "        y0, y1 = y1, y0 - q * y1\n",
    "    return a, x0, y0\n",
    "extended_euclidean_algorithm(8,2)"
   ]
  }
 ],
 "metadata": {
  "kernelspec": {
   "display_name": "Python 3 (ipykernel)",
   "language": "python",
   "name": "python3"
  },
  "language_info": {
   "codemirror_mode": {
    "name": "ipython",
    "version": 3
   },
   "file_extension": ".py",
   "mimetype": "text/x-python",
   "name": "python",
   "nbconvert_exporter": "python",
   "pygments_lexer": "ipython3",
   "version": "3.11.4"
  }
 },
 "nbformat": 4,
 "nbformat_minor": 5
}
